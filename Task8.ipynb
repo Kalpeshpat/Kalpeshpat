{
 "cells": [
  {
   "cell_type": "markdown",
   "metadata": {},
   "source": [
    "# Task8 - Make a table of all the In-built data structures and Point out the differences one by one"
   ]
  },
  {
   "cell_type": "markdown",
   "metadata": {},
   "source": [
    "Method Description\n",
    "1) add() Adds an element to the set.\n",
    "2) clear() Removes all the elements from the set.\n",
    "3) copy() Returns a copy of the set.\n",
    "4) difference() Returns a set containing the difference between two or more sets difference.\n",
    "5) update() Removes the items in this set that are also included in another, specified set.\n",
    "6) discard() Remove the specified item.\n",
    "7) intersection() Returns a set, that is the intersection of two or more sets intersection.\n",
    "8) pop() Removes an element from the set.\n",
    "9) remove() Removes the specified element symmetric.\n",
    "10) difference() Returns a set with the symmetric differences of two sets symmetric.\n",
    "11) union() Return a set containing the union of sets .\n",
    "12) "
   ]
  }
 ],
 "metadata": {
  "kernelspec": {
   "display_name": "Python 3",
   "language": "python",
   "name": "python3"
  },
  "language_info": {
   "codemirror_mode": {
    "name": "ipython",
    "version": 3
   },
   "file_extension": ".py",
   "mimetype": "text/x-python",
   "name": "python",
   "nbconvert_exporter": "python",
   "pygments_lexer": "ipython3",
   "version": "3.8.5"
  }
 },
 "nbformat": 4,
 "nbformat_minor": 4
}
